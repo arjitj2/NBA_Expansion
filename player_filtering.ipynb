{
 "cells": [
  {
   "cell_type": "code",
   "execution_count": 1,
   "metadata": {
    "collapsed": true
   },
   "outputs": [],
   "source": [
    "# CONSTANTS\n",
    "salary_cap = 94143000"
   ]
  },
  {
   "cell_type": "code",
   "execution_count": 2,
   "metadata": {
    "collapsed": false
   },
   "outputs": [],
   "source": [
    "import urllib.request\n",
    "from nba_py import player, team\n",
    "from nba_py.constants import *\n",
    "from bs4 import BeautifulSoup\n",
    "from __future__ import print_function\n",
    "import pandas as pd\n",
    "import numpy as np\n",
    "import re\n",
    "import itertools\n",
    "import datetime as dtime"
   ]
  },
  {
   "cell_type": "code",
   "execution_count": 3,
   "metadata": {
    "collapsed": true
   },
   "outputs": [],
   "source": [
    "def strip_name(name):\n",
    "    return re.sub(r'[^\\w\\s]','',name.lower())"
   ]
  },
  {
   "cell_type": "code",
   "execution_count": 4,
   "metadata": {
    "collapsed": false
   },
   "outputs": [],
   "source": [
    "def create_salary_csv():\n",
    "    salaryDT = pd.read_csv('data/contracts_players_contracts.csv')\n",
    "    salaryDT['formatted_name'] = salaryDT.apply(lambda row: strip_name(row['Player']), axis=1)\n",
    "    return salaryDT"
   ]
  },
  {
   "cell_type": "code",
   "execution_count": 19,
   "metadata": {
    "collapsed": false
   },
   "outputs": [],
   "source": [
    "def find_valid_team_players(team_name, valid_players):\n",
    "    teamDT = team.TeamCommonRoster(team_id=TEAMS[team_name]['id'],season='2016-17').roster()\n",
    "    roster = list(teamDT['PLAYER'])\n",
    "    rookies = 0\n",
    "    a = list(roster)\n",
    "    \n",
    "    for player in a:\n",
    "        if(len(salaryDT[salaryDT['formatted_name'] == strip_name(player)]) != 0):\n",
    "            if(salaryDT[salaryDT['formatted_name'] == strip_name(player)]['Signed Using'].iloc[0] == '1st Round Pick'):\n",
    "                rookies = rookies + 1\n",
    "                roster.remove(player)\n",
    "        else:\n",
    "            roster.remove(player)\n",
    "        \n",
    "    for _ in range(5-rookies):\n",
    "        team_contracts = salaryDT[salaryDT.Player.isin(roster)][['Player','2016-17']]\n",
    "        team_contracts['2016-17'] = team_contracts['2016-17'].apply(lambda x: float(strip_name('2016-17')))\n",
    "        team_contracts = team_contracts.sort_values('2016-17', ascending=False)\n",
    "        roster.remove(team_contracts.iloc[0]['Player'])\n",
    "    \n",
    "    valid_players.append(roster)\n",
    "        \n",
    "    return valid_players"
   ]
  },
  {
   "cell_type": "code",
   "execution_count": 20,
   "metadata": {
    "collapsed": false
   },
   "outputs": [],
   "source": [
    "def find_valid_players():\n",
    "    valid_players = []\n",
    "    for team_name in list(TEAMS.keys()):\n",
    "        valid_players = find_valid_team_players(team_name, valid_players)\n",
    "    valid_players = list(itertools.chain.from_iterable(valid_players))\n",
    "    \n",
    "    return valid_players"
   ]
  },
  {
   "cell_type": "code",
   "execution_count": 21,
   "metadata": {
    "collapsed": false
   },
   "outputs": [],
   "source": [
    "def create_master_player_DT():\n",
    "    teamDTList = []\n",
    "    for team_name in list(TEAMS.keys()):\n",
    "        teamDT = team.TeamCommonRoster(team_id=TEAMS[team_name]['id'],season='2016-17').roster()\n",
    "        teamDTList.append(teamDT)\n",
    "    return pd.concat(teamDTList)"
   ]
  },
  {
   "cell_type": "code",
   "execution_count": 22,
   "metadata": {
    "collapsed": false
   },
   "outputs": [],
   "source": [
    "def get_data(url_string):\n",
    "    soup = BeautifulSoup(urllib.request.urlopen(url_string).read(), 'lxml')\n",
    "    vorp = 0\n",
    "    try:\n",
    "        result_row = soup.find(id = 'advanced.2016').find_all('td')\n",
    "        vorp_element = result_row[len(result_row)-1].get_text()\n",
    "        vorp = float(vorp_element)\n",
    "    except:\n",
    "        pass\n",
    "    return vorp"
   ]
  },
  {
   "cell_type": "code",
   "execution_count": 23,
   "metadata": {
    "collapsed": true
   },
   "outputs": [],
   "source": [
    "def find_player_vorp(player_name):\n",
    "    base_url = 'http://www.basketball-reference.com/players/'\n",
    "    name_array = strip_name(player_name).split(' ')\n",
    "    first_name = name_array[0]\n",
    "    last_name = name_array[len(name_array)-1]\n",
    "    url_string = base_url + last_name[0] + '/' + last_name[0:5] + first_name[0:2] + '01.html'\n",
    "    vorp = get_data(url_string)\n",
    "    return vorp"
   ]
  },
  {
   "cell_type": "code",
   "execution_count": 24,
   "metadata": {
    "collapsed": true
   },
   "outputs": [],
   "source": [
    "def create_vorp_array(player_names):\n",
    "    vorp_array = np.zeros(len(player_names))\n",
    "    for index, player_name in enumerate(player_names):\n",
    "        vorp_array[index] = find_player_vorp(player_name)\n",
    "    return vorp_array"
   ]
  },
  {
   "cell_type": "code",
   "execution_count": 25,
   "metadata": {
    "collapsed": false
   },
   "outputs": [],
   "source": [
    "# CREATE masterPlayerDT, filter out any rookies/invalid players to choose\n",
    "salaryDT = create_salary_csv()\n",
    "\n",
    "valid_players = find_valid_players()\n",
    "\n",
    "masterPlayerDT = create_master_player_DT()\n",
    "masterPlayerDT = masterPlayerDT[masterPlayerDT['PLAYER'] != \"LeBron James\"]\n",
    "masterPlayerDT = masterPlayerDT[masterPlayerDT['EXP'] != \"R\"]\n",
    "masterPlayerDT = masterPlayerDT.drop(['SEASON', 'TeamID', 'LeagueID', 'NUM', 'BIRTH_DATE', 'SCHOOL', 'PLAYER_ID'], axis=1)\n",
    "masterPlayerDT = masterPlayerDT[masterPlayerDT.PLAYER.isin(valid_players)]\n",
    "masterPlayerDT['Salary'] = masterPlayerDT['PLAYER'].apply(lambda x: list(salaryDT[salaryDT['formatted_name'] == strip_name(x)]['2016-17'])[0])"
   ]
  },
  {
   "cell_type": "code",
   "execution_count": 26,
   "metadata": {
    "collapsed": false
   },
   "outputs": [],
   "source": [
    "masterPlayerDT['VORP'] = pd.Series(create_vorp_array(masterPlayerDT['PLAYER']), index=masterPlayerDT.index)"
   ]
  },
  {
   "cell_type": "code",
   "execution_count": 69,
   "metadata": {
    "collapsed": false
   },
   "outputs": [],
   "source": [
    "masterPlayerDT['VORP/$$$'] = masterPlayerDT.apply(lambda row: float(row['VORP'])/float(strip_name(row['Salary']))*1000000, axis=1)\n",
    "VORPsortedDT = masterPlayerDT.sort_values('VORP', ascending=False)\n",
    "valueSortedDT = masterPlayerDT.sort_values('VORP/$$$', ascending=False)"
   ]
  },
  {
   "cell_type": "code",
   "execution_count": 73,
   "metadata": {
    "collapsed": true
   },
   "outputs": [
    {
     "data": {
      "text/html": [
       "<div>\n",
       "<table border=\"1\" class=\"dataframe\">\n",
       "  <thead>\n",
       "    <tr style=\"text-align: right;\">\n",
       "      <th></th>\n",
       "      <th>PLAYER</th>\n",
       "      <th>POSITION</th>\n",
       "      <th>HEIGHT</th>\n",
       "      <th>WEIGHT</th>\n",
       "      <th>AGE</th>\n",
       "      <th>EXP</th>\n",
       "      <th>Salary</th>\n",
       "      <th>VORP</th>\n",
       "      <th>VORP/$$$</th>\n",
       "    </tr>\n",
       "  </thead>\n",
       "  <tbody>\n",
       "    <tr>\n",
       "      <th>0</th>\n",
       "      <td>Stephen Curry</td>\n",
       "      <td>G</td>\n",
       "      <td>6-3</td>\n",
       "      <td>190</td>\n",
       "      <td>28.0</td>\n",
       "      <td>7</td>\n",
       "      <td>$12,112,359</td>\n",
       "      <td>9.8</td>\n",
       "      <td>0.809091</td>\n",
       "    </tr>\n",
       "    <tr>\n",
       "      <th>1</th>\n",
       "      <td>Russell Westbrook</td>\n",
       "      <td>G</td>\n",
       "      <td>6-3</td>\n",
       "      <td>200</td>\n",
       "      <td>27.0</td>\n",
       "      <td>8</td>\n",
       "      <td>$26,540,100</td>\n",
       "      <td>8.3</td>\n",
       "      <td>0.312734</td>\n",
       "    </tr>\n",
       "    <tr>\n",
       "      <th>2</th>\n",
       "      <td>Kyle Lowry</td>\n",
       "      <td>G</td>\n",
       "      <td>6-0</td>\n",
       "      <td>205</td>\n",
       "      <td>30.0</td>\n",
       "      <td>10</td>\n",
       "      <td>$12,000,000</td>\n",
       "      <td>6.3</td>\n",
       "      <td>0.525000</td>\n",
       "    </tr>\n",
       "    <tr>\n",
       "      <th>3</th>\n",
       "      <td>Patty Mills</td>\n",
       "      <td>G</td>\n",
       "      <td>6-0</td>\n",
       "      <td>185</td>\n",
       "      <td>28.0</td>\n",
       "      <td>7</td>\n",
       "      <td>$3,578,948</td>\n",
       "      <td>4.9</td>\n",
       "      <td>1.369117</td>\n",
       "    </tr>\n",
       "    <tr>\n",
       "      <th>4</th>\n",
       "      <td>Nikola Jokic</td>\n",
       "      <td>C</td>\n",
       "      <td>6-10</td>\n",
       "      <td>250</td>\n",
       "      <td>21.0</td>\n",
       "      <td>1</td>\n",
       "      <td>$1,358,500</td>\n",
       "      <td>3.0</td>\n",
       "      <td>2.208318</td>\n",
       "    </tr>\n",
       "    <tr>\n",
       "      <th>5</th>\n",
       "      <td>Jae Crowder</td>\n",
       "      <td>F</td>\n",
       "      <td>6-6</td>\n",
       "      <td>235</td>\n",
       "      <td>26.0</td>\n",
       "      <td>4</td>\n",
       "      <td>$6,286,408</td>\n",
       "      <td>2.8</td>\n",
       "      <td>0.445405</td>\n",
       "    </tr>\n",
       "    <tr>\n",
       "      <th>6</th>\n",
       "      <td>Trevor Ariza</td>\n",
       "      <td>F</td>\n",
       "      <td>6-8</td>\n",
       "      <td>215</td>\n",
       "      <td>31.0</td>\n",
       "      <td>12</td>\n",
       "      <td>$7,806,971</td>\n",
       "      <td>2.5</td>\n",
       "      <td>0.320227</td>\n",
       "    </tr>\n",
       "    <tr>\n",
       "      <th>7</th>\n",
       "      <td>Ed Davis</td>\n",
       "      <td>F-C</td>\n",
       "      <td>6-10</td>\n",
       "      <td>240</td>\n",
       "      <td>27.0</td>\n",
       "      <td>6</td>\n",
       "      <td>$6,666,667</td>\n",
       "      <td>2.3</td>\n",
       "      <td>0.345000</td>\n",
       "    </tr>\n",
       "    <tr>\n",
       "      <th>8</th>\n",
       "      <td>David West</td>\n",
       "      <td>F</td>\n",
       "      <td>6-9</td>\n",
       "      <td>250</td>\n",
       "      <td>35.0</td>\n",
       "      <td>13</td>\n",
       "      <td>$1,551,659</td>\n",
       "      <td>1.9</td>\n",
       "      <td>1.224496</td>\n",
       "    </tr>\n",
       "    <tr>\n",
       "      <th>9</th>\n",
       "      <td>PJ Tucker</td>\n",
       "      <td>F</td>\n",
       "      <td>6-6</td>\n",
       "      <td>245</td>\n",
       "      <td>31.0</td>\n",
       "      <td>5</td>\n",
       "      <td>$5,300,000</td>\n",
       "      <td>1.7</td>\n",
       "      <td>0.320755</td>\n",
       "    </tr>\n",
       "    <tr>\n",
       "      <th>10</th>\n",
       "      <td>Zaza Pachulia</td>\n",
       "      <td>C</td>\n",
       "      <td>6-11</td>\n",
       "      <td>275</td>\n",
       "      <td>32.0</td>\n",
       "      <td>13</td>\n",
       "      <td>$2,898,000</td>\n",
       "      <td>1.7</td>\n",
       "      <td>0.586611</td>\n",
       "    </tr>\n",
       "    <tr>\n",
       "      <th>11</th>\n",
       "      <td>Thabo Sefolosha</td>\n",
       "      <td>F</td>\n",
       "      <td>6-7</td>\n",
       "      <td>220</td>\n",
       "      <td>32.0</td>\n",
       "      <td>10</td>\n",
       "      <td>$3,850,000</td>\n",
       "      <td>1.4</td>\n",
       "      <td>0.363636</td>\n",
       "    </tr>\n",
       "  </tbody>\n",
       "</table>\n",
       "</div>"
      ],
      "text/plain": [
       "               PLAYER POSITION HEIGHT WEIGHT   AGE EXP        Salary  VORP  \\\n",
       "0       Stephen Curry        G    6-3    190  28.0   7  $12,112,359    9.8   \n",
       "1   Russell Westbrook        G    6-3    200  27.0   8  $26,540,100    8.3   \n",
       "2          Kyle Lowry        G    6-0    205  30.0  10  $12,000,000    6.3   \n",
       "3         Patty Mills        G    6-0    185  28.0   7   $3,578,948    4.9   \n",
       "4        Nikola Jokic        C   6-10    250  21.0   1   $1,358,500    3.0   \n",
       "5         Jae Crowder        F    6-6    235  26.0   4   $6,286,408    2.8   \n",
       "6        Trevor Ariza        F    6-8    215  31.0  12   $7,806,971    2.5   \n",
       "7            Ed Davis      F-C   6-10    240  27.0   6   $6,666,667    2.3   \n",
       "8          David West        F    6-9    250  35.0  13   $1,551,659    1.9   \n",
       "9           PJ Tucker        F    6-6    245  31.0   5   $5,300,000    1.7   \n",
       "10      Zaza Pachulia        C   6-11    275  32.0  13   $2,898,000    1.7   \n",
       "11    Thabo Sefolosha        F    6-7    220  32.0  10   $3,850,000    1.4   \n",
       "\n",
       "    VORP/$$$  \n",
       "0   0.809091  \n",
       "1   0.312734  \n",
       "2   0.525000  \n",
       "3   1.369117  \n",
       "4   2.208318  \n",
       "5   0.445405  \n",
       "6   0.320227  \n",
       "7   0.345000  \n",
       "8   1.224496  \n",
       "9   0.320755  \n",
       "10  0.586611  \n",
       "11  0.363636  "
      ]
     },
     "execution_count": 73,
     "metadata": {},
     "output_type": "execute_result"
    }
   ],
   "source": [
    "goodContractsDT = pd.merge(VORPsortedDT.head(50), valueSortedDT.head(25), on='PLAYER', how='inner', suffixes=('', '_y'))\n",
    "goodContractsDT = goodContractsDT.sort_values('VORP', ascending = False)\n",
    "goodContractsDT = goodContractsDT.drop(['POSITION_y', 'HEIGHT_y', 'WEIGHT_y', 'AGE_y', 'EXP_y', 'Salary_y', 'VORP_y', 'VORP/$$$_y'], axis=1)\n",
    "goodContractsDT"
   ]
  },
  {
   "cell_type": "code",
   "execution_count": null,
   "metadata": {
    "collapsed": true
   },
   "outputs": [],
   "source": []
  }
 ],
 "metadata": {
  "anaconda-cloud": {},
  "kernelspec": {
   "display_name": "Python [Root]",
   "language": "python",
   "name": "Python [Root]"
  },
  "language_info": {
   "codemirror_mode": {
    "name": "ipython",
    "version": 3
   },
   "file_extension": ".py",
   "mimetype": "text/x-python",
   "name": "python",
   "nbconvert_exporter": "python",
   "pygments_lexer": "ipython3",
   "version": "3.5.2"
  }
 },
 "nbformat": 4,
 "nbformat_minor": 0
}
