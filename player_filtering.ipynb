{
 "cells": [
  {
   "cell_type": "code",
   "execution_count": 1,
   "metadata": {
    "collapsed": true
   },
   "outputs": [],
   "source": [
    "# CONSTANTS\n",
    "salary_cap = 94143000"
   ]
  },
  {
   "cell_type": "code",
   "execution_count": 2,
   "metadata": {
    "collapsed": false
   },
   "outputs": [],
   "source": [
    "import urllib.request\n",
    "from nba_py import player, team\n",
    "from nba_py.constants import *\n",
    "from bs4 import BeautifulSoup\n",
    "from __future__ import print_function\n",
    "import pandas as pd\n",
    "import numpy as np\n",
    "import re\n",
    "import itertools\n",
    "import datetime as dtime"
   ]
  },
  {
   "cell_type": "code",
   "execution_count": 3,
   "metadata": {
    "collapsed": true
   },
   "outputs": [],
   "source": [
    "def strip_name(name):\n",
    "    return re.sub(r'[^\\w\\s]','',name.lower())"
   ]
  },
  {
   "cell_type": "code",
   "execution_count": 4,
   "metadata": {
    "collapsed": false
   },
   "outputs": [],
   "source": [
    "def create_salary_csv():\n",
    "    salaryDT = pd.read_csv('data/contracts_players_contracts.csv')\n",
    "    salaryDT['formatted_name'] = salaryDT.apply(lambda row: strip_name(row['Player']), axis=1)\n",
    "    return salaryDT"
   ]
  },
  {
   "cell_type": "code",
   "execution_count": 5,
   "metadata": {
    "collapsed": false
   },
   "outputs": [],
   "source": [
    "def find_valid_team_players(team_name, valid_players):\n",
    "    teamDT = team.TeamCommonRoster(team_id=TEAMS[team_name]['id'],season='2016-17').roster()\n",
    "    roster = list(teamDT['PLAYER'])\n",
    "    rookies = 0\n",
    "    a = list(roster)\n",
    "    \n",
    "    for player in a:\n",
    "        if(len(salaryDT[salaryDT['formatted_name'] == strip_name(player)]) != 0):\n",
    "            if(salaryDT[salaryDT['formatted_name'] == strip_name(player)]['Signed Using'].iloc[0] == '1st Round Pick'):\n",
    "                rookies = rookies + 1\n",
    "                roster.remove(player)\n",
    "        else:\n",
    "            roster.remove(player)\n",
    "        \n",
    "    for _ in range(5-rookies):\n",
    "        team_contracts = salaryDT[salaryDT.Player.isin(roster)][['Player','2016-17']]\n",
    "        roster.remove(team_contracts.iloc[0]['Player'])\n",
    "    \n",
    "    valid_players.append(roster)\n",
    "        \n",
    "    return valid_players"
   ]
  },
  {
   "cell_type": "code",
   "execution_count": 6,
   "metadata": {
    "collapsed": false
   },
   "outputs": [],
   "source": [
    "def find_valid_players():\n",
    "    valid_players = []\n",
    "    for team_name in list(TEAMS.keys()):\n",
    "        valid_players = find_valid_team_players(team_name, valid_players)\n",
    "    valid_players = list(itertools.chain.from_iterable(valid_players))\n",
    "    \n",
    "    return valid_players"
   ]
  },
  {
   "cell_type": "code",
   "execution_count": 7,
   "metadata": {
    "collapsed": false
   },
   "outputs": [],
   "source": [
    "def create_master_player_DT():\n",
    "    teamDTList = []\n",
    "    for team_name in list(TEAMS.keys()):\n",
    "        teamDT = team.TeamCommonRoster(team_id=TEAMS[team_name]['id'],season='2016-17').roster()\n",
    "        teamDTList.append(teamDT)\n",
    "    return pd.concat(teamDTList)"
   ]
  },
  {
   "cell_type": "code",
   "execution_count": 8,
   "metadata": {
    "collapsed": true
   },
   "outputs": [],
   "source": [
    "# CREATE masterPlayerDT, filter out any rookies/invalid players to choose\n",
    "salaryDT = create_salary_csv()\n",
    "\n",
    "valid_players = find_valid_players()\n",
    "\n",
    "masterPlayerDT = create_master_player_DT()\n",
    "masterPlayerDT = masterPlayerDT[masterPlayerDT['EXP'] != \"R\"]\n",
    "masterPlayerDT = masterPlayerDT[masterPlayerDT.PLAYER.isin(valid_players)]"
   ]
  },
  {
   "cell_type": "code",
   "execution_count": 9,
   "metadata": {
    "collapsed": false
   },
   "outputs": [],
   "source": [
    "def get_data(url_string):\n",
    "    soup = BeautifulSoup(urllib.request.urlopen(url_string).read(), 'lxml')\n",
    "    vorp = 0\n",
    "    try:\n",
    "        result_row = soup.find(id = 'advanced.2016').find_all('td')\n",
    "        vorp_element = result_row[len(result_row)-1].get_text()\n",
    "        vorp = float(vorp_element)\n",
    "    except:\n",
    "        pass\n",
    "    return vorp"
   ]
  },
  {
   "cell_type": "code",
   "execution_count": 10,
   "metadata": {
    "collapsed": true
   },
   "outputs": [],
   "source": [
    "def find_player_vorp(player_name):\n",
    "    base_url = 'http://www.basketball-reference.com/players/'\n",
    "    name_array = strip_name(player_name).split(' ')\n",
    "    first_name = name_array[0]\n",
    "    last_name = name_array[len(name_array)-1]\n",
    "    url_string = base_url + last_name[0] + '/' + last_name[0:4] + first_name[0:1] + '01.html'\n",
    "    vorp = get_data(url_string)\n",
    "    return vorp"
   ]
  },
  {
   "cell_type": "code",
   "execution_count": 11,
   "metadata": {
    "collapsed": true
   },
   "outputs": [],
   "source": [
    "def create_vorp_array(player_names):\n",
    "    vorp_array = np.zeros(len(player_names))\n",
    "    for index, player_name in enumerate(player_names):\n",
    "        vorp_array[index] = find_player_vorp(player_name)\n",
    "    return vorp_array"
   ]
  },
  {
   "cell_type": "code",
   "execution_count": null,
   "metadata": {
    "collapsed": false
   },
   "outputs": [],
   "source": [
    "masterPlayerDT['VORP'] = pd.Series(create_vorp_array(masterPlayerDT['PLAYER']), index=masterPlayerDT.index)"
   ]
  },
  {
   "cell_type": "code",
   "execution_count": null,
   "metadata": {
    "collapsed": true
   },
   "outputs": [],
   "source": []
  }
 ],
 "metadata": {
  "anaconda-cloud": {},
  "kernelspec": {
   "display_name": "Python [Root]",
   "language": "python",
   "name": "Python [Root]"
  },
  "language_info": {
   "codemirror_mode": {
    "name": "ipython",
    "version": 3
   },
   "file_extension": ".py",
   "mimetype": "text/x-python",
   "name": "python",
   "nbconvert_exporter": "python",
   "pygments_lexer": "ipython3",
   "version": "3.5.2"
  }
 },
 "nbformat": 4,
 "nbformat_minor": 0
}
